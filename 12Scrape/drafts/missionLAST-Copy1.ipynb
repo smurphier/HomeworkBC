{
 "cells": [
  {
   "cell_type": "code",
   "execution_count": 1,
   "metadata": {},
   "outputs": [],
   "source": [
    "from bs4 import BeautifulSoup\n",
    "from splinter import Browser\n",
    "import requests\n",
    "import pandas as pd\n",
    "import time\n",
    "from datetime import date"
   ]
  },
  {
   "cell_type": "code",
   "execution_count": 2,
   "metadata": {},
   "outputs": [],
   "source": [
    "\n",
    "# # Use Selenium to visit the url, capture html\n",
    "# executable_path = {'executable_path': '/usr/local/bin/chromedriver'}\n",
    "# browser = Browser('chrome', **executable_path, headless=False)\n",
    "# browser = init_browser()  "
   ]
  },
  {
   "cell_type": "code",
   "execution_count": 3,
   "metadata": {},
   "outputs": [],
   "source": [
    "def init_browser():\n",
    "    # Use Selenium to visit the url, capture html\n",
    "    executable_path = {'executable_path': '/usr/local/bin/chromedriver'}\n",
    "    return Browser('chrome', **executable_path, headless=False)\n",
    "browser = init_browser()  "
   ]
  },
  {
   "cell_type": "code",
   "execution_count": 4,
   "metadata": {
    "collapsed": true
   },
   "outputs": [
    {
     "name": "stdout",
     "output_type": "stream",
     "text": [
      "<div class=\"collapsible results\">\n",
      "<div class=\"item\"><a class=\"itemLink product-item\" href=\"/search/map/Mars/Viking/cerberus_enhanced\"><img alt=\"Cerberus Hemisphere Enhanced thumbnail\" class=\"thumb\" src=\"/cache/images/dfaf3849e74bf973b59eb50dab52b583_cerberus_enhanced.tif_thumb.png\"/></a><div class=\"description\"><a class=\"itemLink product-item\" href=\"/search/map/Mars/Viking/cerberus_enhanced\"><h3>Cerberus Hemisphere Enhanced</h3></a><span class=\"subtitle\" style=\"float:left\">image/tiff 21 MB</span><span class=\"pubDate\" style=\"float:right\"></span><br/><p>Mosaic of the Cerberus hemisphere of Mars projected into point perspective, a view similar to that which one would see from a spacecraft. This mosaic is composed of 104 Viking Orbiter images acquired…</p></div> <!-- end description --></div><div class=\"item\"><a class=\"itemLink product-item\" href=\"/search/map/Mars/Viking/schiaparelli_enhanced\"><img alt=\"Schiaparelli Hemisphere Enhanced thumbnail\" class=\"thumb\" src=\"/cache/images/7677c0a006b83871b5a2f66985ab5857_schiaparelli_enhanced.tif_thumb.png\"/></a><div class=\"description\"><a class=\"itemLink product-item\" href=\"/search/map/Mars/Viking/schiaparelli_enhanced\"><h3>Schiaparelli Hemisphere Enhanced</h3></a><span class=\"subtitle\" style=\"float:left\">image/tiff 35 MB</span><span class=\"pubDate\" style=\"float:right\"></span><br/><p>Mosaic of the Schiaparelli hemisphere of Mars projected into point perspective, a view similar to that which one would see from a spacecraft. The images were acquired in 1980 during early northern…</p></div> <!-- end description --></div><div class=\"item\"><a class=\"itemLink product-item\" href=\"/search/map/Mars/Viking/syrtis_major_enhanced\"><img alt=\"Syrtis Major Hemisphere Enhanced thumbnail\" class=\"thumb\" src=\"/cache/images/aae41197e40d6d4f3ea557f8cfe51d15_syrtis_major_enhanced.tif_thumb.png\"/></a><div class=\"description\"><a class=\"itemLink product-item\" href=\"/search/map/Mars/Viking/syrtis_major_enhanced\"><h3>Syrtis Major Hemisphere Enhanced</h3></a><span class=\"subtitle\" style=\"float:left\">image/tiff 25 MB</span><span class=\"pubDate\" style=\"float:right\"></span><br/><p>Mosaic of the Syrtis Major hemisphere of Mars projected into point perspective, a view similar to that which one would see from a spacecraft. This mosaic is composed of about 100 red and violet…</p></div> <!-- end description --></div><div class=\"item\"><a class=\"itemLink product-item\" href=\"/search/map/Mars/Viking/valles_marineris_enhanced\"><img alt=\"Valles Marineris Hemisphere Enhanced thumbnail\" class=\"thumb\" src=\"/cache/images/04085d99ec3713883a9a57f42be9c725_valles_marineris_enhanced.tif_thumb.png\"/></a><div class=\"description\"><a class=\"itemLink product-item\" href=\"/search/map/Mars/Viking/valles_marineris_enhanced\"><h3>Valles Marineris Hemisphere Enhanced</h3></a><span class=\"subtitle\" style=\"float:left\">image/tiff 27 MB</span><span class=\"pubDate\" style=\"float:right\"></span><br/><p>Mosaic of the Valles Marineris hemisphere of Mars projected into point perspective, a view similar to that which one would see from a spacecraft. The distance is 2500 kilometers from the surface of…</p></div> <!-- end description --></div><script async=\"\" src=\"https://ssl.google-analytics.com/ga.js\" type=\"text/javascript\"></script><script>addBases=[];;if(typeof resetLayerSwitcher===\"function\"){resetLayerSwitcher(false)};var productTotal = 4;</script>\n",
      "</div>\n"
     ]
    }
   ],
   "source": [
    "urlHemis = 'https://astrogeology.usgs.gov/search/results?q=hemisphere+enhanced&k1=target&v1=Mars'\n",
    "browser.visit(urlHemis)\n",
    "# Pages take a few seconds to load; wait, and generate result <after> page is loaded\n",
    "time.sleep(2)\n",
    "htmlHemis = browser.html\n",
    "soupHemi = BeautifulSoup(htmlHemis, 'html.parser')\n",
    "# Retrieve all elements (in a glob) that contain hemisphere content/links\n",
    "hemis_div = soupHemi.find('div', class_='collapsible results')\n",
    "# Capture all subdivisions that contains title and url; for iteration.\n",
    "print(hemis_div)\n",
    "hemis_descr = hemis_div.find_all('div', class_='description')\n"
   ]
  },
  {
   "cell_type": "code",
   "execution_count": 5,
   "metadata": {},
   "outputs": [
    {
     "name": "stdout",
     "output_type": "stream",
     "text": [
      "[<div class=\"description\"><a class=\"itemLink product-item\" href=\"/search/map/Mars/Viking/cerberus_enhanced\"><h3>Cerberus Hemisphere Enhanced</h3></a><span class=\"subtitle\" style=\"float:left\">image/tiff 21 MB</span><span class=\"pubDate\" style=\"float:right\"></span><br/><p>Mosaic of the Cerberus hemisphere of Mars projected into point perspective, a view similar to that which one would see from a spacecraft. This mosaic is composed of 104 Viking Orbiter images acquired…</p></div>, <div class=\"description\"><a class=\"itemLink product-item\" href=\"/search/map/Mars/Viking/schiaparelli_enhanced\"><h3>Schiaparelli Hemisphere Enhanced</h3></a><span class=\"subtitle\" style=\"float:left\">image/tiff 35 MB</span><span class=\"pubDate\" style=\"float:right\"></span><br/><p>Mosaic of the Schiaparelli hemisphere of Mars projected into point perspective, a view similar to that which one would see from a spacecraft. The images were acquired in 1980 during early northern…</p></div>, <div class=\"description\"><a class=\"itemLink product-item\" href=\"/search/map/Mars/Viking/syrtis_major_enhanced\"><h3>Syrtis Major Hemisphere Enhanced</h3></a><span class=\"subtitle\" style=\"float:left\">image/tiff 25 MB</span><span class=\"pubDate\" style=\"float:right\"></span><br/><p>Mosaic of the Syrtis Major hemisphere of Mars projected into point perspective, a view similar to that which one would see from a spacecraft. This mosaic is composed of about 100 red and violet…</p></div>, <div class=\"description\"><a class=\"itemLink product-item\" href=\"/search/map/Mars/Viking/valles_marineris_enhanced\"><h3>Valles Marineris Hemisphere Enhanced</h3></a><span class=\"subtitle\" style=\"float:left\">image/tiff 27 MB</span><span class=\"pubDate\" style=\"float:right\"></span><br/><p>Mosaic of the Valles Marineris hemisphere of Mars projected into point perspective, a view similar to that which one would see from a spacecraft. The distance is 2500 kilometers from the surface of…</p></div>]\n"
     ]
    }
   ],
   "source": [
    "print(hemis_descr)"
   ]
  },
  {
   "cell_type": "code",
   "execution_count": 6,
   "metadata": {},
   "outputs": [],
   "source": [
    " # Create empty list to which will append 1 dictionary per hemisphere. Save URL prefix.\n",
    "hemispheres = []\n",
    "url_prefix = \"https://astrogeology.usgs.gov\"\n",
    "# Iterate through \"item\"s to capture target urls containing the hemisphere images\n",
    "for hemi in hemis_descr:\n",
    "    # Use Beautiful Soup's find() method to navigate and retrieve attributes\n",
    "    hemi_title =hemi.h3.text\n",
    "    # Put together prefix and suffix of the image urls.\n",
    "    partial_url = hemi.find('a')['href']\n",
    "    full_url = url_prefix + partial_url\n",
    "    # Create a dictionary of the title and url. \n",
    "    hemi_dict = {}\n",
    "    hemi_dict['title'] = hemi_title\n",
    "    hemi_dict['img_url'] = full_url\n",
    "    ### Append to the hemispheres list.\n",
    "    hemispheres.append(hemi_dict)\n"
   ]
  },
  {
   "cell_type": "code",
   "execution_count": 7,
   "metadata": {},
   "outputs": [
    {
     "name": "stdout",
     "output_type": "stream",
     "text": [
      "[{'title': 'Cerberus Hemisphere Enhanced', 'img_url': 'https://astrogeology.usgs.gov/search/map/Mars/Viking/cerberus_enhanced'}, {'title': 'Schiaparelli Hemisphere Enhanced', 'img_url': 'https://astrogeology.usgs.gov/search/map/Mars/Viking/schiaparelli_enhanced'}, {'title': 'Syrtis Major Hemisphere Enhanced', 'img_url': 'https://astrogeology.usgs.gov/search/map/Mars/Viking/syrtis_major_enhanced'}, {'title': 'Valles Marineris Hemisphere Enhanced', 'img_url': 'https://astrogeology.usgs.gov/search/map/Mars/Viking/valles_marineris_enhanced'}]\n"
     ]
    }
   ],
   "source": [
    "print(hemispheres)"
   ]
  },
  {
   "cell_type": "code",
   "execution_count": null,
   "metadata": {},
   "outputs": [],
   "source": []
  },
  {
   "cell_type": "code",
   "execution_count": null,
   "metadata": {},
   "outputs": [],
   "source": [
    "# Create an empty dict to hold results\n",
    "mars_results_dict = {}       \n",
    "print(\"Start executing scrape_mars\")"
   ]
  },
  {
   "cell_type": "code",
   "execution_count": null,
   "metadata": {},
   "outputs": [],
   "source": [
    "#### (1) Retrieve most recent news article from NASA site\n",
    "urlNews = \"https://mars.nasa.gov/news/\"\n",
    "browser = init_browser()  \n",
    "browser.visit(urlNews)\n",
    "#retrieve HTML object\n",
    "htmlNews = browser.html\n",
    "# parse HTML with Beautiful Soup, to find tags for desired content\n",
    "soupNews = BeautifulSoup(htmlNews, 'html.parser')\n",
    "# Use the closest tags to capture news articles, tagged as list items\n",
    "resultNews = soupNews.find_all('li', class_=\"slide\")\n",
    "# Capture the first instance of it, the most recent news article \n",
    "# Use a more specific tag to capture just the text desired\n",
    "news_title = soupNews.find('h3').text\n",
    "news_body = soupNews.find('div', class_=\"rollover_description_inner\").text"
   ]
  },
  {
   "cell_type": "code",
   "execution_count": null,
   "metadata": {},
   "outputs": [],
   "source": [
    "# Add collected items for webpage to a dictionary immediately...\n",
    "# ...so as not to have to search up through code to find them later.\n",
    "mars_results_dict[\"Mars_news_title\"] = news_title\n",
    "mars_results_dict[\"Mars_news_body\"] = news_body\n",
    "print(news_title)\n",
    "print(news_body)\n",
    "print(\"after News, before Image\")"
   ]
  },
  {
   "cell_type": "code",
   "execution_count": null,
   "metadata": {},
   "outputs": [],
   "source": [
    "#### (2) Retrieve a featured image from NASA site, large version of file\n",
    "# This page takes awhile to load... sleep 5seconds before parsing.\n",
    "urlImg = 'https://www.jpl.nasa.gov/spaceimages/?search=&category=Mars'\n",
    "browser.visit(urlImg)\n",
    "time.sleep(2)\n",
    "htmlImg = browser.html\n",
    "soupImg = BeautifulSoup(htmlImg, 'html.parser')\n",
    "# Within div:class=\"carousel_container\" is a footer button link to a smaller image \n",
    "# But the larger image we want is the wallpaper in the \"article\" tag.\n",
    "main_feature = soupImg.find('article', class_='carousel_item')       \n",
    "main_alt = soupImg.find('a', class_='button fancybox')\n",
    "image_suffix = main_alt['data-fancybox-href']\n",
    "# This is not a complete URL; give it a prefix so it can be used directly as URL.\n",
    "image_prefix = \"https://www.jpl.nasa.gov\"\n",
    "marsImg_link = image_prefix + image_suffix\n",
    "\n",
    "print(marsImg_link)\n",
    "mars_results_dict[\"MarsImg_link\"] = marsImg_link\n",
    "\n",
    "print(\"after Image, before Weather\")"
   ]
  },
  {
   "cell_type": "code",
   "execution_count": null,
   "metadata": {},
   "outputs": [],
   "source": [
    "#### (3) Mars Weather tweet: scrape the latest Mars weather report as `mars_weather`.\n",
    "urlWea = \"https://twitter.com/marswxreport?lang=en\"\n",
    "## Question: .get is as good as \".post\" for the entire assignment?? because we are\n",
    "## passing only url (no params) and not re-submitting request...safe but unnecessary.\n",
    "responseWea = requests.get(urlWea)\n",
    "soupWea = BeautifulSoup(responseWea.text, 'html.parser')\n",
    "resultsWea = soupWea.find_all('div', class_=\"js-tweet-text-container\")\n",
    "mars_weather = resultsWea[0].find('p',{'class':'js-tweet-text'}).text\n",
    "\n",
    "mars_results_dict[\"Mars_weather\"] = mars_weather\n",
    "\n",
    "print(\"after Weather, before StatsTable\")\n",
    "print(mars_weather)"
   ]
  },
  {
   "cell_type": "code",
   "execution_count": null,
   "metadata": {},
   "outputs": [],
   "source": [
    "#### (4) From NASA facts page on mars, retrieve the table of vital statistics.\n",
    "# Visit (http://space-facts.com/mars/) & panda-scrape the Mars table of facts;\n",
    "# Use Pandas to convert the data to a HTML table string\n",
    "urlStats = 'https://space-facts.com/mars/'\n",
    "tables = pd.read_html(urlStats)\n",
    "# Convert that html table to a dataframe and clean it up.\n",
    "marsStats_df = tables[0]\n",
    "marsStats_df.columns = ['Description', 'Value']\n",
    "marsStats_df.set_index('Description', inplace=True)\n",
    "# Mars_df.head()\n",
    "# Write this table(dataframe) to an HTML string. Clean it up a bit.\n",
    "stats_html_string = marsStats_df.to_html().replace('\\n', '')\n",
    "# # Write the string to an HTML file; can open in browser to verify.\n",
    "# stats_html.to_html('MarsStatsTable.html')\n",
    "# !open MarsTable.html\n",
    "\n",
    "mars_results_dict[\"Stats_html_string\"] = stats_html_string\n",
    "\n",
    "print(\"after StatsTable, before Hemis\")\n",
    "print(stats_html_string)"
   ]
  },
  {
   "cell_type": "code",
   "execution_count": null,
   "metadata": {},
   "outputs": [],
   "source": [
    "#### (5) Get 4 images of Mars' Hemispheres\n",
    "# Visit (https://astrogeology.usgs.gov/search/results?q=hemisphere+enhanced&k1=target&v1=Mars)\n",
    "# Obtain images for each of Mar's hemispheres (click thru links to get full-res images).\n",
    "# For each: Save url string and title w/hemisphere name to a  Python dictionary \n",
    "# using keys `img_url` and `title`; 1 dictionary for each hemisphere. Append each to a list.\n",
    "# Use splinter and soup to retrieve html and convert to soup object. \n",
    "\n",
    "urlHemis = 'https://astrogeology.usgs.gov/search/results?q=hemisphere+enhanced&k1=target&v1=Mars'\n",
    "browser.visit(urlHemis)\n",
    "# Pages take a few seconds to load; wait, and generate result <after> page is loaded\n",
    "time.sleep(10)"
   ]
  },
  {
   "cell_type": "code",
   "execution_count": null,
   "metadata": {},
   "outputs": [],
   "source": [
    "htmlHemis = browser.html\n",
    "soupHemi = BeautifulSoup(htmlHemis, 'html.parser')\n",
    "# Retrieve all elements (in a glob) that contain hemisphere content/links\n",
    "hemis_div = soupHemi.find('div', class_='collapsible results')\n",
    "hemis_div"
   ]
  },
  {
   "cell_type": "code",
   "execution_count": null,
   "metadata": {},
   "outputs": [],
   "source": [
    "# Capture all subdivisions that contains title and url; for iteration.\n",
    "hemis_descr = hemis_div.find_all('div', class_='description')\n",
    "hemis_descr"
   ]
  },
  {
   "cell_type": "code",
   "execution_count": null,
   "metadata": {
    "scrolled": true
   },
   "outputs": [],
   "source": [
    "# Create empty list to which will append 1 dictionary per hemisphere. Save URL prefix.\n",
    "hemispheres = []\n",
    "url_prefix = \"https://astrogeology.usgs.gov\"\n",
    "# Iterate through \"item\"s to capture target urls containing the hemisphere images\n",
    "for hemi in hemis_descr:\n",
    "    # Use Beautiful Soup's find() method to navigate and retrieve attributes\n",
    "    hemi_title = hemi.h3.text\n",
    "\n",
    "    partial_url = hemi.find('a')['href']\n",
    "    full_url = url_prefix + partial_url\n",
    "    # Create a dictionary of the title and url. \n",
    "    \n",
    "    hemi_dict = {}\n",
    "    #hemi_dict.title = hemi_title\n",
    "    #hemi_dict.img_url = full_url\n",
    "    hemi_dict['title'] = hemi_title\n",
    "    hemi_dict['img_url'] = full_url\n",
    "    ### Append to the hemispheres list.\n",
    "    hemispheres.append(hemi_dict)\n",
    "print(hemispheres)"
   ]
  },
  {
   "cell_type": "code",
   "execution_count": null,
   "metadata": {},
   "outputs": [],
   "source": [
    "mars_results_dict[\"Hemispheres\"] = hemispheres"
   ]
  },
  {
   "cell_type": "code",
   "execution_count": null,
   "metadata": {},
   "outputs": [],
   "source": [
    "# # I found analagous central locations on earth -> Hemispheres more comprehensible ?   \n",
    "# center_landmark = [\"Hawaii\", \"Vietnam\", \"BikiniAtoll\", \"SriLanka\"]\n",
    "# Hemispheres = dict(zip(center_landmark, zip(title, img_url)))\n",
    "print(\"after hemispheres, before date-time\")\n",
    "\n",
    "#### (5) Return the dictionary that collects the results of each section...\n",
    "#     [\"Mars_news_title\"], [\"Mars_news_body\"], [\"MarsImg_link\"],[\"Mars_weather\"],\n",
    "#     [\"Stats_html_string\"],[\"Hemispheres\"], [\"Date_time\"]\n",
    "### ...and capture the date, add to the dictionary.\n",
    "from datetime import date\n",
    "retr_date = date.today()\n",
    "mars_results_dict[\"Date\"] = retr_date\n"
   ]
  },
  {
   "cell_type": "code",
   "execution_count": null,
   "metadata": {},
   "outputs": [],
   "source": [
    "mars_results_dict "
   ]
  },
  {
   "cell_type": "code",
   "execution_count": null,
   "metadata": {},
   "outputs": [],
   "source": [
    "browser.quit()    \n",
    "\n",
    "print(\"after browserQuit\")\n",
    "# result_A = scrape_Mars()\n",
    "# print(result_A)"
   ]
  },
  {
   "cell_type": "code",
   "execution_count": null,
   "metadata": {},
   "outputs": [],
   "source": []
  }
 ],
 "metadata": {
  "file_extension": ".py",
  "kernelspec": {
   "display_name": "Python 3",
   "language": "python",
   "name": "python3"
  },
  "language_info": {
   "codemirror_mode": {
    "name": "ipython",
    "version": 3
   },
   "file_extension": ".py",
   "mimetype": "text/x-python",
   "name": "python",
   "nbconvert_exporter": "python",
   "pygments_lexer": "ipython3",
   "version": "3.7.1"
  },
  "mimetype": "text/x-python",
  "name": "python",
  "npconvert_exporter": "python",
  "pygments_lexer": "ipython3",
  "version": 3
 },
 "nbformat": 4,
 "nbformat_minor": 2
}
